{
 "cells": [
  {
   "cell_type": "code",
   "execution_count": 58,
   "metadata": {},
   "outputs": [],
   "source": [
    "import neo\n",
    "import matplotlib.pyplot as pl\n",
    "\n",
    "# specify the location and name of the data file\n",
    "data_file = 'data.abf'\n",
    "\n",
    "# load the data file into Python\n",
    "r = neo.AxonIO(filename=data_file)\n",
    "block = r.read_block()\n",
    "segment = block.segments[0]\n",
    "\n",
    "# read out the 2 signals of interest\n",
    "nerve,muscle = segment.analogsignals\n",
    "\n",
    "# extract properties, such as units and sampling rate, from the signals\n",
    "nerve_unit = nerve.units.dimensionality.string\n",
    "muscle_unit = muscle.units.dimensionality.string\n",
    "sample_period = nerve.sampling_period\n",
    "sample_period_unit = sample_period.units.simplified.dimensionality.string"
   ]
  },
  {
   "cell_type": "code",
   "execution_count": 59,
   "metadata": {},
   "outputs": [
    {
     "data": {
      "text/plain": [
       "<matplotlib.text.Text at 0x156e0bc10>"
      ]
     },
     "execution_count": 59,
     "metadata": {},
     "output_type": "execute_result"
    }
   ],
   "source": [
    "# create a figure with 2 axes, one for nerve and one for muscle\n",
    "fig,axs = pl.subplots(2, 1, sharex=True)\n",
    "\n",
    "# plot nerve\n",
    "axs[0].plot(nerve.times, nerve, color='steelblue')\n",
    "axs[0].set_ylabel('Voltage ({})'.format(nerve_unit))\n",
    "axs[0].set_title('Nerve')\n",
    "\n",
    "# plot muscle\n",
    "axs[1].plot(muscle.times, muscle, color='orange')\n",
    "axs[1].set_ylabel('Voltage ({})'.format(muscle_unit))\n",
    "axs[1].set_xlabel('Time ({})'.format(sample_period_unit))\n",
    "axs[1].set_title('Muscle')"
   ]
  },
  {
   "cell_type": "code",
   "execution_count": 57,
   "metadata": {},
   "outputs": [
    {
     "data": {
      "text/plain": [
       "2"
      ]
     },
     "execution_count": 57,
     "metadata": {},
     "output_type": "execute_result"
    }
   ],
   "source": []
  },
  {
   "cell_type": "code",
   "execution_count": null,
   "metadata": {
    "collapsed": true
   },
   "outputs": [],
   "source": []
  }
 ],
 "metadata": {
  "kernelspec": {
   "display_name": "Python 3",
   "language": "python",
   "name": "python3"
  },
  "language_info": {
   "codemirror_mode": {
    "name": "ipython",
    "version": 3
   },
   "file_extension": ".py",
   "mimetype": "text/x-python",
   "name": "python",
   "nbconvert_exporter": "python",
   "pygments_lexer": "ipython3",
   "version": "3.6.2"
  }
 },
 "nbformat": 4,
 "nbformat_minor": 2
}
