{
 "cells": [
  {
   "cell_type": "code",
   "execution_count": null,
   "metadata": {
    "collapsed": true
   },
   "outputs": [],
   "source": [
    "import numpy as np\n",
    "import matplotlib.pyplot as pl\n",
    "import neo\n",
    "from scipy.signal import medfilt\n",
    "from scipy.ndimage import label\n",
    "from sklearn.cluster import KMeans"
   ]
  },
  {
   "cell_type": "code",
   "execution_count": 2,
   "metadata": {
    "collapsed": false
   },
   "outputs": [],
   "source": [
    "# read in the data\n",
    "data_file = 'example.abf'\n",
    "r = neo.AxonIO(filename=data_file)\n",
    "block = r.read_block()\n",
    "segment = block.segments[0]\n",
    "\n",
    "nerve,muscle = segment.analogsignals\n",
    "nerve = np.asarray(nerve[10000:100000])"
   ]
  },
  {
   "cell_type": "code",
   "execution_count": 3,
   "metadata": {
    "collapsed": false
   },
   "outputs": [],
   "source": [
    "# adjust for drift in baseline of signal; this may take a bit of time\n",
    "baseline = medfilt(nerve, kernel_size=801)\n",
    "nerve -= baseline"
   ]
  },
  {
   "cell_type": "code",
   "execution_count": 4,
   "metadata": {
    "collapsed": false
   },
   "outputs": [],
   "source": [
    "# compute the values in the signal that pass some threshold\n",
    "direction = 1 # 1 for upward, -1 for downward\n",
    "n_std = 2.5\n",
    "thresh = nerve.mean() + nerve.std() * n_std\n",
    "above_thresh = direction * nerve > thresh"
   ]
  },
  {
   "cell_type": "code",
   "execution_count": 5,
   "metadata": {
    "collapsed": false
   },
   "outputs": [],
   "source": [
    "# split the above_thresh signal into connected segments\n",
    "labs,nlabs = label(above_thresh)\n",
    "\n",
    "peak_idxs = [] # stores the indices of peaks\n",
    "\n",
    "# iterate through each segment\n",
    "for l in range(1,nlabs+1):\n",
    "    \n",
    "    # find the indices of this segment\n",
    "    idxs = np.where(labs==l)[0]\n",
    "    \n",
    "    # extract the signal values at these idxs\n",
    "    vals = nerve[idxs]\n",
    "    \n",
    "    # select the index corresponding to the peak signal value\n",
    "    peak_idx = idxs[np.argmax(vals)]\n",
    "    \n",
    "    peak_idxs.append(peak_idx)\n",
    "\n",
    "peak_heights = nerve[peak_idxs]"
   ]
  },
  {
   "cell_type": "code",
   "execution_count": 6,
   "metadata": {
    "collapsed": false
   },
   "outputs": [
    {
     "data": {
      "text/plain": [
       "[<matplotlib.lines.Line2D at 0x1223fb650>]"
      ]
     },
     "execution_count": 6,
     "metadata": {},
     "output_type": "execute_result"
    }
   ],
   "source": [
    "# display the discovered peaks\n",
    "pl.plot(nerve)\n",
    "pl.plot(peak_idxs, peak_heights, 'go')"
   ]
  },
  {
   "cell_type": "code",
   "execution_count": 7,
   "metadata": {
    "collapsed": false
   },
   "outputs": [
    {
     "data": {
      "text/plain": [
       "<matplotlib.text.Text at 0x12676e2d0>"
      ]
     },
     "execution_count": 7,
     "metadata": {},
     "output_type": "execute_result"
    }
   ],
   "source": [
    "# display the distribution of peak values (might help you see clusters, and thus select k for k-means)\n",
    "pl.hist(peak_heights, bins=100)\n",
    "pl.xlabel('AP magnitude')\n",
    "pl.ylabel('Count')"
   ]
  },
  {
   "cell_type": "code",
   "execution_count": 8,
   "metadata": {
    "collapsed": false
   },
   "outputs": [],
   "source": [
    "n_clusters = 5\n",
    "\n",
    "# reshape the data to the shape (n_samples, n_features) -- required for scikit-learn\n",
    "X = peak_heights.reshape([-1,1])\n",
    "# run k-means clustering\n",
    "km = KMeans(n_clusters=n_clusters).fit(X)"
   ]
  },
  {
   "cell_type": "code",
   "execution_count": 9,
   "metadata": {
    "collapsed": false
   },
   "outputs": [
    {
     "data": {
      "text/plain": [
       "<matplotlib.collections.PathCollection at 0x1266e8710>"
      ]
     },
     "execution_count": 9,
     "metadata": {},
     "output_type": "execute_result"
    }
   ],
   "source": [
    "# display the nerve and the peaks coloured by cluster\n",
    "pl.plot(nerve, color='gray')\n",
    "pl.scatter(peak_idxs, peak_heights, c=km.labels_)"
   ]
  },
  {
   "cell_type": "code",
   "execution_count": null,
   "metadata": {
    "collapsed": true
   },
   "outputs": [],
   "source": []
  }
 ],
 "metadata": {
  "kernelspec": {
   "display_name": "Python [conda env:py2]",
   "language": "python",
   "name": "conda-env-py2-py"
  },
  "language_info": {
   "codemirror_mode": {
    "name": "ipython",
    "version": 2
   },
   "file_extension": ".py",
   "mimetype": "text/x-python",
   "name": "python",
   "nbconvert_exporter": "python",
   "pygments_lexer": "ipython2",
   "version": "2.7.12"
  }
 },
 "nbformat": 4,
 "nbformat_minor": 2
}
