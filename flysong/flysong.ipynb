{
 "cells": [
  {
   "cell_type": "markdown",
   "metadata": {},
   "source": [
    "## Fly song notebook\n",
    "\n",
    "The goal is to identify two distinct motifs in recordings of Drosophila song: *pulse* song and *sine* song.\n",
    "\n",
    "Although there exist __[complex strategies](https://bmcbiol.biomedcentral.com/articles/10.1186/1741-7007-11-11)__ for performing this analysis, we will use a very simple approach here.\n",
    "\n",
    "For detection of *pulse song*, we will threshold the audio signal, under the assumption that the magnitude of bouts of pulse song is consistently higher than that of sine song or no song.\n",
    "\n",
    "For detection of *sine song*, we will compute a short-time Fourier transform (STFT) and evaluate the peak spectral power (And associated frequency) at each time bin.\n",
    "\n",
    "For both types of song, we then filter bouts to be of a minimum duration."
   ]
  },
  {
   "cell_type": "code",
   "execution_count": null,
   "metadata": {},
   "outputs": [],
   "source": [
    "# Import packages\n",
    "\n",
    "import neo\n",
    "import matplotlib.pyplot as pl\n",
    "from scipy.ndimage import label\n",
    "from scipy.signal import stft\n",
    "%matplotlib notebook"
   ]
  },
  {
   "cell_type": "code",
   "execution_count": null,
   "metadata": {},
   "outputs": [],
   "source": [
    "# define a function to plot a line coloured by another variable\n",
    "import matplotlib.colors as mcolors\n",
    "from matplotlib.colors import ListedColormap, BoundaryNorm\n",
    "from matplotlib.collections import LineCollection\n",
    "from matplotlib.lines import Line2D\n",
    "\n",
    "def label_plot(x, y, c, c_colors=None, labels=None, ax=None, **kwargs):\n",
    "    \"\"\"Plot y versus x, colored c_color when c is nonzero\n",
    "    \"\"\"\n",
    "    x = np.asarray(x).astype(float)\n",
    "    y = np.asarray(y).astype(float)\n",
    "    c = np.asarray(c).astype(int)\n",
    "    ucol = np.unique(c)\n",
    "    ucol = ucol[ucol!=0]\n",
    "    \n",
    "    if ax is None:\n",
    "        ax = pl.gca()\n",
    "    cmap = kwargs.pop('cmap', pl.cm.viridis)\n",
    "    if c_colors is None:\n",
    "        c_colors = cmap(np.linspace(0,1,len(ucol)))\n",
    "    \n",
    "    color = kwargs.pop('color', 'k')\n",
    "    color = mcolors.to_rgba(color)\n",
    "    \n",
    "    lcmap = ListedColormap(np.concatenate([[color], c_colors]))\n",
    "    norm = BoundaryNorm(np.arange(lcmap.N+1), lcmap.N)\n",
    "    \n",
    "    points = np.array([x, y]).T[:,None,:]\n",
    "    segments = np.concatenate([points[:-1], points[1:]], axis=1)\n",
    "    lc = LineCollection(segments, cmap=lcmap, norm=norm)\n",
    "    lc.set_array((c[1:] | c[:-1]))\n",
    "    \n",
    "    coll = ax.add_collection(lc, **kwargs)\n",
    "    ax.axis('auto')\n",
    "    \n",
    "    # legend\n",
    "    if labels is not None:\n",
    "        legend_lines = [Line2D([0], [0], color=lcmap.colors[i], lw=4) for i in range(lcmap.N)]\n",
    "        ax.legend(legend_lines, labels, loc='best')\n",
    "    \n",
    "    return ax"
   ]
  },
  {
   "cell_type": "code",
   "execution_count": null,
   "metadata": {
    "collapsed": true
   },
   "outputs": [],
   "source": [
    "## -- User parameters -- ##\n",
    "\n",
    "# data parameters\n",
    "data_file = 'flysong.abf' # path to data file of interest\n",
    "\n",
    "# analysis parameters\n",
    "stft_window = .025 # length of STFT window in seconds\n",
    "min_sine_dur = .100 # minimum continuous time window for a sine song bout in seconds\n",
    "min_pulse_dur = .100 # minimum continuous time window for a pulse song bout in seconds\n",
    "within_pulse_gap = .150 # maximum duration of time in seconds allowed below threshold inside a single pulse bout\n",
    "pulse_magnitude_thresh = 3.8 # number of absolute standard deviations from mean to consider a pulse signal"
   ]
  },
  {
   "cell_type": "code",
   "execution_count": null,
   "metadata": {
    "collapsed": true
   },
   "outputs": [],
   "source": [
    "# load the data file into Python\n",
    "r = neo.AxonIO(filename=data_file)\n",
    "block = r.read_block()\n",
    "segment = block.segments[0]\n",
    "\n",
    "data = segment.analogsignals[0]\n",
    "Ts = float(data.sampling_period)\n",
    "fs = 1/Ts\n",
    "data = data.as_array().squeeze()"
   ]
  },
  {
   "cell_type": "code",
   "execution_count": null,
   "metadata": {},
   "outputs": [],
   "source": [
    "# process the parameters\n",
    "win_ = int(round(stft_window/Ts)) # length of STFT window in samples\n",
    "min_pulse_dur_ = int(round(min_pulse_dur/Ts)) # minimum continuous time window for a pulse song bout in samples\n",
    "within_pulse_gap_ = int(round(within_pulse_gap/Ts)) # maximum duration of time in samples allowed below threshold inside a single pulse bout"
   ]
  },
  {
   "cell_type": "code",
   "execution_count": null,
   "metadata": {},
   "outputs": [],
   "source": [
    "## -- Pulse song -- ##\n",
    "\n",
    "# threshold\n",
    "putative_pulse = np.abs(data) > data.mean() + pulse_magnitude_thresh*data.std()\n",
    "\n",
    "# fill gaps within tolerance\n",
    "neg_labs,_ = label(~putative_pulse)\n",
    "gaps_to_fill = np.array([l for l in np.unique(neg_labs) if np.sum(neg_labs==l)<=within_pulse_gap_])\n",
    "fill = np.array([nl in gaps_to_fill for nl in neg_labs])\n",
    "\n",
    "is_pulse = putative_pulse | fill"
   ]
  },
  {
   "cell_type": "code",
   "execution_count": null,
   "metadata": {},
   "outputs": [],
   "source": [
    "## -- Sine song -- ##\n",
    "\n",
    "# perform STFT\n",
    "freq,t,z = stft(data, fs=1/Ts, nperseg=win_, window='hann')\n",
    "stft_Ts = np.mean(np.diff(t))\n",
    "min_sine_dur_ = int(round(min_sine_dur/stft_Ts)) # minimum continuous time window for a sine song bout in samples\n",
    "power = np.abs(z)**2 # perhaps just magnitude and not power will be better, not clear yet\n",
    "\n",
    "# display STFT\n",
    "#pl.pcolor(t, freq, power)\n",
    "\n",
    "# analyze STFT\n",
    "\n",
    "# power magnitude criteria\n",
    "thresh = np.median(power)\n",
    "peak_power = np.max(power, axis=0)\n",
    "is_high = peak_power > thresh\n",
    "\n",
    "# freqency criteria\n",
    "peak_freq = freq[np.argmax(power, axis=0)]\n",
    "is_band = (peak_freq>80) & (peak_freq<220)\n",
    "\n",
    "# combine magnitude and frequency critera\n",
    "putative_sine = is_high & is_band\n",
    "\n",
    "# threshold continuous segments that pass criteria\n",
    "labs,nlab = label(putative_sine)\n",
    "keep_labs = np.array([l for l in np.unique(labs) if np.sum(labs==l)>=min_sine_dur_ and l!=0])\n",
    "labs = np.array([True if l in keep_labs else False for l in labs])\n",
    "is_sine = np.repeat(labs, int(round(data.size/labs.size)))[:len(data)]\n",
    "\n",
    "is_sine = is_sine & (~is_pulse) # sine song is only possible if a timepoint is not already considered pulse song"
   ]
  },
  {
   "cell_type": "code",
   "execution_count": null,
   "metadata": {},
   "outputs": [],
   "source": [
    "time = np.arange(len(data))*Ts\n",
    "\n",
    "song = np.zeros_like(data)\n",
    "song[is_pulse] = 1\n",
    "song[is_sine] = 2\n",
    "\n",
    "ax = label_plot(time, data, song, labels=['No song','Pulse song','Sine song'], cmap=pl.cm.winter)\n",
    "ax.set_xlabel('Time (sec)')"
   ]
  }
 ],
 "metadata": {
  "kernelspec": {
   "display_name": "Python 3",
   "language": "python",
   "name": "python3"
  },
  "language_info": {
   "codemirror_mode": {
    "name": "ipython",
    "version": 3
   },
   "file_extension": ".py",
   "mimetype": "text/x-python",
   "name": "python",
   "nbconvert_exporter": "python",
   "pygments_lexer": "ipython3",
   "version": "3.6.2"
  }
 },
 "nbformat": 4,
 "nbformat_minor": 2
}
